{
 "cells": [
  {
   "cell_type": "markdown",
   "metadata": {},
   "source": [
    "# Plot Nr of Plants in Planoles HZ from 2009 to 2016"
   ]
  },
  {
   "cell_type": "code",
   "execution_count": 114,
   "metadata": {},
   "outputs": [],
   "source": [
    "import numpy as np\n",
    "import pandas as pd\n",
    "import matplotlib.pyplot as plt\n",
    "from pyproj import Proj  # Package for doing GPS-calculations and Projections\n",
    "from matplotlib import gridspec\n",
    "\n",
    "\n",
    "my_proj = Proj(proj='utm', zone=\"31T\", ellps='WGS84', units='m')  "
   ]
  },
  {
   "cell_type": "code",
   "execution_count": 14,
   "metadata": {},
   "outputs": [],
   "source": [
    "# A few global Variable names.\n",
    "# String of the Names of all Input Files:\n",
    "years = np.arange(2009,2017)\n",
    "\n",
    "input_folder =  \"./Input_Data/data_all/\"    # Name of the Folder used for Input Files\n",
    "#output_folder = \"./Output_Data/\"\n",
    "\n",
    "input_files = [input_folder + \"Antspec\" + str(y) + \"_IDtrack.csv\" for y in years]"
   ]
  },
  {
   "cell_type": "markdown",
   "metadata": {},
   "source": [
    "# Area 51"
   ]
  },
  {
   "cell_type": "code",
   "execution_count": 60,
   "metadata": {},
   "outputs": [
    {
     "name": "stdout",
     "output_type": "stream",
     "text": [
      "./Input_Data/data_all/Antspec2009_IDtrack.csv\n",
      "1924\n",
      "./Input_Data/data_all/Antspec2010_IDtrack.csv\n",
      "3118\n",
      "./Input_Data/data_all/Antspec2011_IDtrack.csv\n",
      "2568\n",
      "./Input_Data/data_all/Antspec2012_IDtrack.csv\n",
      "3740\n",
      "./Input_Data/data_all/Antspec2013_IDtrack.csv\n",
      "5757\n",
      "./Input_Data/data_all/Antspec2014_IDtrack.csv\n",
      "8714\n",
      "./Input_Data/data_all/Antspec2015_IDtrack.csv\n",
      "10599\n",
      "./Input_Data/data_all/Antspec2016_IDtrack.csv\n",
      "11101\n",
      "\n",
      "8 Files successfully loaded!\n",
      "All headers equal!\n",
      "\n",
      "Data Format: \n",
      "\n",
      "Merging all the data!\n",
      "Nr. of all individuals: 47521\n"
     ]
    },
    {
     "data": {
      "text/html": [
       "<div>\n",
       "<style scoped>\n",
       "    .dataframe tbody tr th:only-of-type {\n",
       "        vertical-align: middle;\n",
       "    }\n",
       "\n",
       "    .dataframe tbody tr th {\n",
       "        vertical-align: top;\n",
       "    }\n",
       "\n",
       "    .dataframe thead th {\n",
       "        text-align: right;\n",
       "    }\n",
       "</style>\n",
       "<table border=\"1\" class=\"dataframe\">\n",
       "  <thead>\n",
       "    <tr style=\"text-align: right;\">\n",
       "      <th></th>\n",
       "      <th>Population</th>\n",
       "      <th>Location</th>\n",
       "      <th>VisitID</th>\n",
       "      <th>PlantID</th>\n",
       "      <th>IDtrackOLD</th>\n",
       "      <th>IDtrack</th>\n",
       "      <th>Date</th>\n",
       "      <th>year</th>\n",
       "      <th>ThisYearLabel</th>\n",
       "      <th>Latitude</th>\n",
       "      <th>...</th>\n",
       "      <th>TotalFruit</th>\n",
       "      <th>CutStems</th>\n",
       "      <th>AbortedFlowers</th>\n",
       "      <th>Red</th>\n",
       "      <th>Yellow</th>\n",
       "      <th>phenoCat</th>\n",
       "      <th>LocationManualUpdater</th>\n",
       "      <th>GPS_horz_corr_m</th>\n",
       "      <th>GPS_alt_corr_m</th>\n",
       "      <th>Direction_from_GPS</th>\n",
       "    </tr>\n",
       "  </thead>\n",
       "  <tbody>\n",
       "    <tr>\n",
       "      <th>0</th>\n",
       "      <td>Planoles</td>\n",
       "      <td>Unk</td>\n",
       "      <td>2022.0</td>\n",
       "      <td>J0001</td>\n",
       "      <td>1_J0001</td>\n",
       "      <td>2009_00001_J0001</td>\n",
       "      <td>2009-06-16</td>\n",
       "      <td>2009.0</td>\n",
       "      <td>1</td>\n",
       "      <td>42.321497</td>\n",
       "      <td>...</td>\n",
       "      <td>NaN</td>\n",
       "      <td>NaN</td>\n",
       "      <td>NaN</td>\n",
       "      <td>0.5</td>\n",
       "      <td>1.5</td>\n",
       "      <td>NaN</td>\n",
       "      <td>0</td>\n",
       "      <td>NaN</td>\n",
       "      <td>NaN</td>\n",
       "      <td>NaN</td>\n",
       "    </tr>\n",
       "    <tr>\n",
       "      <th>1</th>\n",
       "      <td>Planoles</td>\n",
       "      <td>Unk</td>\n",
       "      <td>2023.0</td>\n",
       "      <td>J0002</td>\n",
       "      <td>2_J0002</td>\n",
       "      <td>2009_00002_J0002</td>\n",
       "      <td>2009-06-16</td>\n",
       "      <td>2009.0</td>\n",
       "      <td>1</td>\n",
       "      <td>42.321479</td>\n",
       "      <td>...</td>\n",
       "      <td>NaN</td>\n",
       "      <td>NaN</td>\n",
       "      <td>NaN</td>\n",
       "      <td>NaN</td>\n",
       "      <td>NaN</td>\n",
       "      <td>NaN</td>\n",
       "      <td>0</td>\n",
       "      <td>NaN</td>\n",
       "      <td>NaN</td>\n",
       "      <td>NaN</td>\n",
       "    </tr>\n",
       "    <tr>\n",
       "      <th>2</th>\n",
       "      <td>Planoles</td>\n",
       "      <td>Unk</td>\n",
       "      <td>2024.0</td>\n",
       "      <td>J0003</td>\n",
       "      <td>3_J0003</td>\n",
       "      <td>2009_00003_J0003</td>\n",
       "      <td>2009-06-16</td>\n",
       "      <td>2009.0</td>\n",
       "      <td>1</td>\n",
       "      <td>42.321529</td>\n",
       "      <td>...</td>\n",
       "      <td>NaN</td>\n",
       "      <td>NaN</td>\n",
       "      <td>NaN</td>\n",
       "      <td>2.5</td>\n",
       "      <td>2.5</td>\n",
       "      <td>NaN</td>\n",
       "      <td>0</td>\n",
       "      <td>NaN</td>\n",
       "      <td>NaN</td>\n",
       "      <td>NaN</td>\n",
       "    </tr>\n",
       "  </tbody>\n",
       "</table>\n",
       "<p>3 rows × 43 columns</p>\n",
       "</div>"
      ],
      "text/plain": [
       "  Population Location  VisitID PlantID IDtrackOLD           IDtrack  \\\n",
       "0   Planoles      Unk   2022.0   J0001    1_J0001  2009_00001_J0001   \n",
       "1   Planoles      Unk   2023.0   J0002    2_J0002  2009_00002_J0002   \n",
       "2   Planoles      Unk   2024.0   J0003    3_J0003  2009_00003_J0003   \n",
       "\n",
       "         Date    year  ThisYearLabel   Latitude         ...          \\\n",
       "0  2009-06-16  2009.0              1  42.321497         ...           \n",
       "1  2009-06-16  2009.0              1  42.321479         ...           \n",
       "2  2009-06-16  2009.0              1  42.321529         ...           \n",
       "\n",
       "   TotalFruit  CutStems  AbortedFlowers  Red  Yellow  phenoCat  \\\n",
       "0         NaN       NaN             NaN  0.5     1.5       NaN   \n",
       "1         NaN       NaN             NaN  NaN     NaN       NaN   \n",
       "2         NaN       NaN             NaN  2.5     2.5       NaN   \n",
       "\n",
       "   LocationManualUpdater  GPS_horz_corr_m  GPS_alt_corr_m  Direction_from_GPS  \n",
       "0                      0              NaN             NaN                 NaN  \n",
       "1                      0              NaN             NaN                 NaN  \n",
       "2                      0              NaN             NaN                 NaN  \n",
       "\n",
       "[3 rows x 43 columns]"
      ]
     },
     "execution_count": 60,
     "metadata": {},
     "output_type": "execute_result"
    }
   ],
   "source": [
    "data_tables = []   # List into which all data_tables will go.\n",
    "headers = []       # List into which all headers will go.\n",
    "\n",
    "for file_name in input_files:\n",
    "    df = pd.read_csv(file_name, delimiter=\",\")     # Create Panda Data Frame\n",
    "    print(file_name)\n",
    "    print(len(df))\n",
    "    data_tables.append(df)                                        # Append Panda Data \n",
    "    headers.append(list(df))\n",
    "    \n",
    "print(\"\\n%i Files successfully loaded!\" % len(data_tables))      # Quick Status Update\n",
    "\n",
    "# Quickly check whether all headers are the same:\n",
    "for i in range(1,len(headers)):\n",
    "    equal=np.array_equal(headers[i-1], headers[i])\n",
    "    if equal == False:\n",
    "        raise ValueError(\"Not all headers are equal!\")\n",
    "print(\"All headers equal!\")\n",
    "\n",
    "print(\"\\nData Format: \")\n",
    "df = data_tables[0]\n",
    "\n",
    "# Concatenate all the data into a single data Frame\n",
    "print(\"\\nMerging all the data!\")\n",
    "df=pd.concat(data_tables, axis=0, ignore_index=1) # Concatenate all Data; Ignore Indexing\n",
    "print(\"Nr. of all individuals: %i\" % df.shape[0])\n",
    "df.reset_index(drop=1)\n",
    "df.reset_index()\n",
    "df.head(3)"
   ]
  },
  {
   "cell_type": "markdown",
   "metadata": {},
   "source": [
    "### Filter based on GPS Location\n",
    "(Has the effect that non-GPSed plants drop out - however here we include already updated GPS)"
   ]
  },
  {
   "cell_type": "code",
   "execution_count": 128,
   "metadata": {},
   "outputs": [
    {
     "name": "stdout",
     "output_type": "stream",
     "text": [
      "Filtered from 47521 to 42255\n"
     ]
    }
   ],
   "source": [
    "min_lat, max_lat = 42.312, 42.342\n",
    "min_lon, max_lon = 2.01, 2.125\n",
    "\n",
    "lat_okay = (min_lat < df[\"Latitude\"]) &  (df[\"Latitude\"] < max_lat)\n",
    "lon_okay = (min_lon < df[\"Longitude\"]) & (df[\"Longitude\"] < max_lon)\n",
    "\n",
    "df_filter = df[lat_okay & lon_okay]\n",
    "print(f\"Filtered from {len(df)} to {len(df_filter)}\")"
   ]
  },
  {
   "cell_type": "markdown",
   "metadata": {},
   "source": [
    "## Plot per Year"
   ]
  },
  {
   "cell_type": "code",
   "execution_count": 129,
   "metadata": {},
   "outputs": [
    {
     "data": {
      "image/png": "[encoded data removed]",
      "text/plain": [
       "<matplotlib.figure.Figure at 0x7fdad96f2518>"
      ]
     },
     "metadata": {
      "needs_background": "light"
     },
     "output_type": "display_data"
    }
   ],
   "source": [
    "plt.figure(figsize=(10,5))\n",
    "plt.scatter(df[\"Longitude\"], df[\"Latitude\"])\n",
    "plt.xlim([min_lon, max_lon])\n",
    "plt.ylim([min_lat, max_lat])\n",
    "plt.show()"
   ]
  },
  {
   "cell_type": "code",
   "execution_count": 130,
   "metadata": {},
   "outputs": [
    {
     "name": "stdout",
     "output_type": "stream",
     "text": [
      "\n",
      "Year: 2009\n",
      "Total samples: 1924\n",
      "Total samples new: 1924\n",
      "Total samples new unique Planoles: 1828\n",
      "Character: {'J'}\n",
      "\n",
      "Year: 2010\n",
      "Total samples: 3118\n",
      "Total samples new: 2296\n",
      "Total samples new unique Planoles: 2004\n",
      "Character: {'K'}\n",
      "\n",
      "Year: 2011\n",
      "Total samples: 2568\n",
      "Total samples new: 1869\n",
      "Total samples new unique Planoles: 1731\n",
      "Character: {'L'}\n",
      "\n",
      "Year: 2012\n",
      "Total samples: 3740\n",
      "Total samples new: 2764\n",
      "Total samples new unique Planoles: 2031\n",
      "Character: {'M'}\n",
      "\n",
      "Year: 2013\n",
      "Total samples: 5757\n",
      "Total samples new: 4706\n",
      "Total samples new unique Planoles: 3147\n",
      "Character: {'P'}\n",
      "\n",
      "Year: 2014\n",
      "Total samples: 8714\n",
      "Total samples new: 7352\n",
      "Total samples new unique Planoles: 6386\n",
      "Character: {'S'}\n",
      "\n",
      "Year: 2015\n",
      "Total samples: 10600\n",
      "Total samples new: 6634\n",
      "Total samples new unique Planoles: 5678\n",
      "Character: {'T'}\n",
      "\n",
      "Year: 2016\n",
      "Total samples: 11099\n",
      "Total samples new: 7329\n",
      "Total samples new unique Planoles: 6015\n",
      "Character: {'V'}\n"
     ]
    }
   ],
   "source": [
    "df_years = []\n",
    "\n",
    "for i, y in enumerate(years):\n",
    "    tot = np.sum(df[\"year\"]==y)\n",
    "    \n",
    "    this_year = (df[\"year\"]==y) & (df[\"ThisYearLabel\"])\n",
    "    this_year_hz = this_year & lat_okay & lon_okay\n",
    "    df_year = df[this_year_hz]\n",
    "    df_year = df_year.drop_duplicates(subset=\"PlantID\")  # Filter Duplicates\n",
    "    \n",
    "    #print(set(df[this_year]))\n",
    "    print(f\"\\nYear: {y}\")\n",
    "    print(f\"Total samples: {tot}\")\n",
    "    print(f\"Total samples new: {np.sum(this_year)}\")\n",
    "    print(f\"Total samples new unique Planoles: {len(df_year)}\")\n",
    "    \n",
    "    chars = set(df_year[\"PlantID\"].str[0])\n",
    "    print(f\"Character: {chars}\")\n",
    "    \n",
    "    df_years.append(df_year)"
   ]
  },
  {
   "cell_type": "markdown",
   "metadata": {},
   "source": [
    "## Do the Plot"
   ]
  },
  {
   "cell_type": "code",
   "execution_count": 194,
   "metadata": {},
   "outputs": [],
   "source": [
    "def plot_single_year(ax, lats, lons, \n",
    "                     min_lat = 42.312, max_lat = 42.345, min_lon=2.01, max_lon = 2.13, title=\"\",fs=14):\n",
    "    \"\"\"Plots single year for Planoles\n",
    "    ax: Axis Object to plot on\"\"\"\n",
    "    ax.scatter(lons, lats, c=\"darkgreen\", s=10)\n",
    "    ax.set_xlim([min_lon, max_lon])\n",
    "    ax.set_ylim([min_lat, max_lat])\n",
    "    #ax.set_title(title)\n",
    "    ax.text(x=0.5, y=0.9, s = f\"Year {title}, Sample Nr: {len(lats)}\", transform=ax.transAxes,ha=\"center\", fontsize=fs)"
   ]
  },
  {
   "cell_type": "code",
   "execution_count": 195,
   "metadata": {},
   "outputs": [
    {
     "data": {
      "image/png": "[encoded data removed]",
      "text/plain": [
       "<matplotlib.figure.Figure at 0x7fdad82a0828>"
      ]
     },
     "metadata": {
      "needs_background": "light"
     },
     "output_type": "display_data"
    }
   ],
   "source": [
    "plt.figure(figsize=(12,6))\n",
    "\n",
    "gs = gridspec.GridSpec(2, 2, height_ratios=[1, 1])\n",
    "gs.update(hspace=0.04) # set the spacing between axes. \n",
    "gs.update(wspace=0.02) # set the spacing between axes.\n",
    "\n",
    "\n",
    "for i in range(4):\n",
    "    ax = plt.subplot(gs[int(i/2), i%2])\n",
    "    \n",
    "    j= -4 +i \n",
    "    y = years[j]\n",
    "    plot_single_year(ax, df_years[j][\"Latitude\"], df_years[j][\"Longitude\"],\n",
    "                    min_lat, max_lat, min_lon, max_lon, title=y)\n",
    "    \n",
    "    if i%2==1:\n",
    "        ax.set_yticks([])\n",
    "        \n",
    "        \n",
    "    if int(i/2)==0:\n",
    "        ax.set_xticks([])\n",
    "\n",
    "plt.savefig(\"./Figures/unique_sample_nr_planoles.pdf\", bbox_inches = 'tight', pad_inches = 0)        \n",
    "plt.show()"
   ]
  },
  {
   "cell_type": "markdown",
   "metadata": {},
   "source": [
    "# Area 51"
   ]
  },
  {
   "cell_type": "code",
   "execution_count": 96,
   "metadata": {},
   "outputs": [
    {
     "data": {
      "text/plain": [
       "'S'"
      ]
     },
     "execution_count": 96,
     "metadata": {},
     "output_type": "execute_result"
    }
   ],
   "source": [
    "unique_ids = list(set(df[\"PlantID\"]))\n",
    "unique_ids[2][0]"
   ]
  },
  {
   "cell_type": "code",
   "execution_count": 65,
   "metadata": {},
   "outputs": [
    {
     "data": {
      "text/plain": [
       "Population                object\n",
       "Location                  object\n",
       "VisitID                  float64\n",
       "PlantID                   object\n",
       "IDtrackOLD                object\n",
       "IDtrack                   object\n",
       "Date                      object\n",
       "year                     float64\n",
       "ThisYearLabel              int64\n",
       "Latitude                 float64\n",
       "Longitude                float64\n",
       "Altitude                 float64\n",
       "CorrectedLatitude        float64\n",
       "CorrectedLongitude       float64\n",
       "CorrectedAltitude        float64\n",
       "Easting                  float64\n",
       "Northing                 float64\n",
       "DistEastofCentre         float64\n",
       "DistNorthOfCentre        float64\n",
       "HorzErr                  float64\n",
       "VertErr                  float64\n",
       "GPS                      float64\n",
       "Comments                  object\n",
       "Alive                     object\n",
       "Perennial                 object\n",
       "FloweringStage            object\n",
       "NumFloweringStems        float64\n",
       "NumVegetativeStems       float64\n",
       "EstimFlowers             float64\n",
       "FirstFlowered             object\n",
       "StemHeight               float64\n",
       "LeavesToFirstFlower      float64\n",
       "TotalFlowers             float64\n",
       "TotalFruit               float64\n",
       "CutStems                 float64\n",
       "AbortedFlowers           float64\n",
       "Red                      float64\n",
       "Yellow                   float64\n",
       "phenoCat                 float64\n",
       "LocationManualUpdater     object\n",
       "GPS_horz_corr_m          float64\n",
       "GPS_alt_corr_m           float64\n",
       "Direction_from_GPS        object\n",
       "dtype: object"
      ]
     },
     "execution_count": 65,
     "metadata": {},
     "output_type": "execute_result"
    }
   ],
   "source": [
    "df.dtypes"
   ]
  }
 ],
 "metadata": {
  "kernelspec": {
   "display_name": "Python 3",
   "language": "python",
   "name": "python3"
  },
  "language_info": {
   "codemirror_mode": {
    "name": "ipython",
    "version": 3
   },
   "file_extension": ".py",
   "mimetype": "text/x-python",
   "name": "python",
   "nbconvert_exporter": "python",
   "pygments_lexer": "ipython3",
   "version": "3.6.8"
  }
 },
 "nbformat": 4,
 "nbformat_minor": 2
}
