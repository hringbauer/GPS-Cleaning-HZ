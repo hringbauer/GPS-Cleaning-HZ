{
 "cells": [
  {
   "cell_type": "markdown",
   "metadata": {},
   "source": [
    "# This is the jupyter Notebook which will do the final data-analysis. It will do the tasks necessary for Phase 1:\n",
    "\n",
    "## 1) Give all Trimble readings (ID_track) a score. According to GPS_classification_15.11.txt\n",
    "\n",
    "## 2) Pick out the best reading (ID_track) to use where multiple readings are available for the same plant ID.\n",
    "\n",
    "### Input: The data tables for every year from Phase 0/ November/ Version 3\n",
    "\n",
    "### Output: \n",
    "1) The original data tables with the score for each ID_track\n",
    "\n",
    "2) A data table that containts the best reading (ID_track) for every Sample\n",
    "\n",
    "\n",
    "@ Author: Harald Ringbauer"
   ]
  },
  {
   "cell_type": "code",
   "execution_count": 206,
   "metadata": {
    "collapsed": true
   },
   "outputs": [],
   "source": [
    "import numpy as np\n",
    "import pandas as pd\n",
    "import matplotlib.pyplot as plt\n",
    "import cPickle as pickle"
   ]
  },
  {
   "cell_type": "code",
   "execution_count": 207,
   "metadata": {
    "collapsed": true
   },
   "outputs": [],
   "source": [
    "# A few global Variable names.\n",
    "# String of the Names of all Input Files:\n",
    "file_names = [\"Antspec2009_IDtrack_DF.csv\",\"Antspec2010_IDtrack_DF.csv\",\"Antspec2011_IDtrack_DF.csv\",\n",
    "              \"Antspec2012_IDtrack_DF.csv\",\"Antspec2013_IDtrack_DF.csv\",\"Antspec2014_IDtrack_DF.csv\"] \n",
    "\n",
    "output_file_name = \"Antspec_compl.csv\"\n",
    "\n",
    "input_folder =  \"./Input_Data/\"    # Name of the Folder used for Input Files\n",
    "output_folder = \"./Output_Data/\""
   ]
  },
  {
   "cell_type": "code",
   "execution_count": 208,
   "metadata": {
    "collapsed": false
   },
   "outputs": [
    {
     "name": "stdout",
     "output_type": "stream",
     "text": [
      "\n",
      "Loading ./Input_Data/Antspec2009_IDtrack_DF.csv\n",
      "Shape of Data: \n",
      "(1925, 27)\n",
      "\n",
      "Loading ./Input_Data/Antspec2010_IDtrack_DF.csv\n",
      "Shape of Data: \n",
      "(3119, 27)\n",
      "\n",
      "Loading ./Input_Data/Antspec2011_IDtrack_DF.csv\n",
      "Shape of Data: \n",
      "(2569, 27)\n",
      "\n",
      "Loading ./Input_Data/Antspec2012_IDtrack_DF.csv\n",
      "Shape of Data: \n",
      "(3741, 27)\n",
      "\n",
      "Loading ./Input_Data/Antspec2013_IDtrack_DF.csv\n",
      "Shape of Data: \n",
      "(5758, 27)\n",
      "\n",
      "Loading ./Input_Data/Antspec2014_IDtrack_DF.csv\n",
      "Shape of Data: \n",
      "(8715, 27)\n",
      "\n",
      "6 Files successfully loaded!\n",
      "All headers equal!\n",
      "\n",
      "Data Format: \n",
      "Population                object\n",
      "Location                  object\n",
      "VisitID                    int64\n",
      "PlantID                   object\n",
      "IDtrack                   object\n",
      "PhenoCat                 float64\n",
      "Date                      object\n",
      "year                       int64\n",
      "ThisYearLabel              int64\n",
      "Latitude                 float64\n",
      "Longitude                float64\n",
      "Altitude                 float64\n",
      "CorrectedLatitude        float64\n",
      "CorrectedLongitude       float64\n",
      "CorrectedAltitude        float64\n",
      "Easting                  float64\n",
      "Northing                 float64\n",
      "DistEastofCentre         float64\n",
      "DistNorthOfCentre        float64\n",
      "HorzErr                  float64\n",
      "VertErr                  float64\n",
      "GPS                        int64\n",
      "Comments                 float64\n",
      "Alive                     object\n",
      "Perennial                float64\n",
      "FloweringStage            object\n",
      "LocationManualUpdater    float64\n",
      "dtype: object\n",
      "\n",
      "Merging all the data!\n",
      "Nr. of all individuals: 25821\n"
     ]
    },
    {
     "data": {
      "text/html": [
       "<div>\n",
       "<table border=\"1\" class=\"dataframe\">\n",
       "  <thead>\n",
       "    <tr style=\"text-align: right;\">\n",
       "      <th></th>\n",
       "      <th>Population</th>\n",
       "      <th>Location</th>\n",
       "      <th>VisitID</th>\n",
       "      <th>PlantID</th>\n",
       "      <th>IDtrack</th>\n",
       "      <th>PhenoCat</th>\n",
       "      <th>Date</th>\n",
       "      <th>year</th>\n",
       "      <th>ThisYearLabel</th>\n",
       "      <th>Latitude</th>\n",
       "      <th>...</th>\n",
       "      <th>DistEastofCentre</th>\n",
       "      <th>DistNorthOfCentre</th>\n",
       "      <th>HorzErr</th>\n",
       "      <th>VertErr</th>\n",
       "      <th>GPS</th>\n",
       "      <th>Comments</th>\n",
       "      <th>Alive</th>\n",
       "      <th>Perennial</th>\n",
       "      <th>FloweringStage</th>\n",
       "      <th>LocationManualUpdater</th>\n",
       "    </tr>\n",
       "  </thead>\n",
       "  <tbody>\n",
       "    <tr>\n",
       "      <th>0</th>\n",
       "      <td>HZ</td>\n",
       "      <td>Unk</td>\n",
       "      <td>2022.0</td>\n",
       "      <td>J0001</td>\n",
       "      <td>1_J0001</td>\n",
       "      <td>NaN</td>\n",
       "      <td>16/06/09</td>\n",
       "      <td>2009</td>\n",
       "      <td>1.0</td>\n",
       "      <td>42.321497</td>\n",
       "      <td>...</td>\n",
       "      <td>-232.275681</td>\n",
       "      <td>-131.158978</td>\n",
       "      <td>5.95776</td>\n",
       "      <td>9.13216</td>\n",
       "      <td>1.0</td>\n",
       "      <td>NaN</td>\n",
       "      <td>Alive</td>\n",
       "      <td>NaN</td>\n",
       "      <td>NaN</td>\n",
       "      <td>NaN</td>\n",
       "    </tr>\n",
       "    <tr>\n",
       "      <th>1</th>\n",
       "      <td>HZ</td>\n",
       "      <td>Unk</td>\n",
       "      <td>2023.0</td>\n",
       "      <td>J0002</td>\n",
       "      <td>2_J0002</td>\n",
       "      <td>NaN</td>\n",
       "      <td>16/06/09</td>\n",
       "      <td>2009</td>\n",
       "      <td>1.0</td>\n",
       "      <td>42.321479</td>\n",
       "      <td>...</td>\n",
       "      <td>-233.310219</td>\n",
       "      <td>-133.051083</td>\n",
       "      <td>5.92379</td>\n",
       "      <td>8.82668</td>\n",
       "      <td>1.0</td>\n",
       "      <td>NaN</td>\n",
       "      <td>Alive</td>\n",
       "      <td>NaN</td>\n",
       "      <td>NaN</td>\n",
       "      <td>NaN</td>\n",
       "    </tr>\n",
       "    <tr>\n",
       "      <th>2</th>\n",
       "      <td>HZ</td>\n",
       "      <td>Unk</td>\n",
       "      <td>2024.0</td>\n",
       "      <td>J0003</td>\n",
       "      <td>3_J0003</td>\n",
       "      <td>NaN</td>\n",
       "      <td>16/06/09</td>\n",
       "      <td>2009</td>\n",
       "      <td>1.0</td>\n",
       "      <td>42.321529</td>\n",
       "      <td>...</td>\n",
       "      <td>-241.008310</td>\n",
       "      <td>-127.430149</td>\n",
       "      <td>7.18771</td>\n",
       "      <td>9.08730</td>\n",
       "      <td>1.0</td>\n",
       "      <td>NaN</td>\n",
       "      <td>Alive</td>\n",
       "      <td>NaN</td>\n",
       "      <td>NaN</td>\n",
       "      <td>NaN</td>\n",
       "    </tr>\n",
       "  </tbody>\n",
       "</table>\n",
       "<p>3 rows × 27 columns</p>\n",
       "</div>"
      ],
      "text/plain": [
       "  Population Location  VisitID PlantID  IDtrack PhenoCat      Date  year  \\\n",
       "0         HZ      Unk   2022.0   J0001  1_J0001      NaN  16/06/09  2009   \n",
       "1         HZ      Unk   2023.0   J0002  2_J0002      NaN  16/06/09  2009   \n",
       "2         HZ      Unk   2024.0   J0003  3_J0003      NaN  16/06/09  2009   \n",
       "\n",
       "   ThisYearLabel   Latitude          ...            DistEastofCentre  \\\n",
       "0            1.0  42.321497          ...                 -232.275681   \n",
       "1            1.0  42.321479          ...                 -233.310219   \n",
       "2            1.0  42.321529          ...                 -241.008310   \n",
       "\n",
       "   DistNorthOfCentre  HorzErr  VertErr  GPS  Comments  Alive  Perennial  \\\n",
       "0        -131.158978  5.95776  9.13216  1.0       NaN  Alive        NaN   \n",
       "1        -133.051083  5.92379  8.82668  1.0       NaN  Alive        NaN   \n",
       "2        -127.430149  7.18771  9.08730  1.0       NaN  Alive        NaN   \n",
       "\n",
       "   FloweringStage  LocationManualUpdater  \n",
       "0             NaN                    NaN  \n",
       "1             NaN                    NaN  \n",
       "2             NaN                    NaN  \n",
       "\n",
       "[3 rows x 27 columns]"
      ]
     },
     "execution_count": 208,
     "metadata": {},
     "output_type": "execute_result"
    }
   ],
   "source": [
    "data_tables = []   # List into which all data_tables will go.\n",
    "all_data = []      # Data Frame for all the Data\n",
    "headers = []       # List into which all headers will go.\n",
    "\n",
    "\n",
    "for file_name in file_names:\n",
    "    path = input_folder + file_name\n",
    "    print(\"\\nLoading \" + path)\n",
    "    data = np.genfromtxt(path, delimiter = '$', dtype=None)\n",
    "    print(\"Shape of Data: \")\n",
    "    print(data.shape)\n",
    "    df = pd.read_csv(input_folder + file_name, delimiter=\"$\")     # Create Panda Data Frame\n",
    "    data_tables.append(df)                                        # Append Panda Data \n",
    "    headers.append(list(df))\n",
    "    \n",
    "print(\"\\n%i Files successfully loaded!\" % len(data_tables))      # Quick Status Update\n",
    "\n",
    "# Quickly check whether all headers are the same:\n",
    "for i in range(1,len(headers)):\n",
    "    equal=np.array_equal(headers[i-1], headers[i])\n",
    "    if equal == False:\n",
    "        raise ValueError(\"Not all headers are equal!\")\n",
    "print(\"All headers equal!\")\n",
    "\n",
    "print(\"\\nData Format: \")\n",
    "df = data_tables[0]\n",
    "print(df.dtypes)\n",
    "\n",
    "# Concatenate all the data into a single data Frame\n",
    "print(\"\\nMerging all the data!\")\n",
    "all_data=pd.concat(data_tables, axis=0, ignore_index=1) # Concatenate all Data; Ignore Indexing\n",
    "print(\"Nr. of all individuals: %i\" % all_data.shape[0])\n",
    "all_data.reset_index(drop=1)\n",
    "all_data.reset_index()\n",
    "all_data.head(3)\n",
    "#all_data"
   ]
  },
  {
   "cell_type": "code",
   "execution_count": 230,
   "metadata": {
    "collapsed": false
   },
   "outputs": [
    {
     "name": "stdout",
     "output_type": "stream",
     "text": [
      "Nr. of NaNs in corrected: 1466\n",
      "Nr. of NaNs in uncorrected: 1792\n",
      "Nr. of NaNs in both: 1466\n",
      "Nr. Entries where GPS Entries are different: 25690 out of 25821\n",
      "Nr. of Entries with manual positon update:  404 out of 25821\n",
      "Nr. of Entries with Death or Label Only:  3225 out of 25821\n"
     ]
    }
   ],
   "source": [
    "#### Now do the ID - Track Score for Every single individual:\n",
    "all_data['Track_Score']=-1 # Set the Default Track Score to 0!\n",
    "un_corr_df = all_data.loc[:,['Latitude','Longitude','Altitude']]                          # The uncorrected Data\n",
    "corr_df = all_data.loc[:,['CorrectedLatitude','CorrectedLongitude','CorrectedAltitude']]  # The corrected Data                                  # The corrected Data\n",
    "\n",
    "# Extract the indices where Nan\n",
    "nan_corr = corr_df.isnull().any(axis=1)   # Get all indices were at least one entry is not 0.\n",
    "nan_uncorr = un_corr_df.isnull().any(axis=1)   # Get all indices were at least one entry is not 0.\n",
    "\n",
    "# Give some Output\n",
    "print(\"Nr. of NaNs in corrected: %i\" % np.sum(list(nan_corr)))\n",
    "print(\"Nr. of NaNs in uncorrected: %i\" % np.sum(list(nan_uncorr)))\n",
    "print(\"Nr. of NaNs in both: %i\" % np.sum(list(both_zero)))\n",
    "\n",
    "# Some logical magic to find out where one entry is \n",
    "both_nan = nan_corr & nan_uncorr\n",
    "one_nan = ~nan_corr & nan_uncorr   # Corrected Value is not NaN, but uncorrected is!\n",
    "non_nan = ~nan_corr & ~nan_uncorr  # Both are not NaN\n",
    "\n",
    "# Extract where the two Position-Frames differ:\n",
    "diff_pos = (un_corr_df.values != corr_df.values).any(axis=1)  # Numpy Array where GPS positions different\n",
    "same_pos = np.logical_not(diff_pos)\n",
    "print(\"Nr. Entries where GPS Entries are different: %i out of %i\" % (np.sum(list(diff_pos)), corr_df.shape[0]))\n",
    "\n",
    "bd = non_nan & diff_pos\n",
    "bs = non_nan & same_pos\n",
    "\n",
    "# Extract where someone did a manual Update:\n",
    "manual_updater = ~all_data.LocationManualUpdater.isnull()   # Extract all entries where there is a manual Updater\n",
    "print(\"Nr. of Entries with manual positon update:  %i out of %i\" % (np.sum(list(manual_updater)), corr_df.shape[0]))\n",
    "\n",
    "# Extract where death or label only:\n",
    "plant_stat_wrong = (all_data.Alive == \"Label only\") | (all_data.Alive == \"Dead\")\n",
    "print(\"Nr. of Entries with Death or Label Only:  %i out of %i\" % (np.sum(list(plant_stat_wrong)), corr_df.shape[0]))\n",
    "\n",
    "#print(np.sum(list(one_nan)))\n",
    "all_data.loc[both_nan,'Track_Score'] = 0  # Set the lowest Score\n",
    "all_data.loc[one_nan,'Track_Score'] = 1   # Set Score = 1: Corrected is not NaN, but Uncorrected is!\n",
    "all_data.loc[bs,'Track_Score'] = 2        # Both Entries exist - but are the same\n",
    "all_data.loc[bd,'Track_Score'] = 3        # High score: Both GPS entries exist and are different\n",
    "\n",
    "all_data.loc[manual_updater, 'Track_Score'] = 1 # Set all entries where there was an manual Updater to 1.\n",
    "all_data.loc[plant_stat_wrong, 'Track_Score'] = 0 # Set all entrie where the plant status is wrong to 0.\n",
    "\n",
    "all_data.to_csv(output_folder + output_file_name, sep = '$')\n",
    "\n",
    "#Print"
   ]
  },
  {
   "cell_type": "markdown",
   "metadata": {},
   "source": [
    "## Step 2 of Phase 1."
   ]
  },
  {
   "cell_type": "code",
   "execution_count": 232,
   "metadata": {
    "collapsed": false
   },
   "outputs": [
    {
     "name": "stdout",
     "output_type": "stream",
     "text": [
      "Successfully loaded\n",
      "Shape of Data: \n"
     ]
    },
    {
     "data": {
      "text/plain": [
       "(25821, 29)"
      ]
     },
     "execution_count": 232,
     "metadata": {},
     "output_type": "execute_result"
    }
   ],
   "source": [
    "# First load the Data Frame\n",
    "df = pd.read_csv(output_folder + output_file_name, sep=\"$\")     # Create Panda Data Frame\n",
    "print(\"Successfully loaded\")\n",
    "print(\"Shape of Data: \")\n",
    "df.shape"
   ]
  },
  {
   "cell_type": "markdown",
   "metadata": {},
   "source": [
    "## Test Area\n",
    "Created to play around with and try out stuff."
   ]
  },
  {
   "cell_type": "code",
   "execution_count": 79,
   "metadata": {
    "collapsed": true
   },
   "outputs": [],
   "source": [
    "# A test data frame created for playing around:\n",
    "\n",
    "test_df = pd.DataFrame({ 'A' : 1., 'B' : pd.Timestamp('20130102'), 'C' : pd.Series(1,index=list(range(4)),dtype='float32'),\n",
    "                                      'D' : np.array([3] * 4,dtype='int32'),\n",
    "                                      'Ea' : pd.Categorical([\"test\",\"train\",\"test\",\"train\"]),\n",
    "                                      'Fe' : 'foo' })"
   ]
  },
  {
   "cell_type": "code",
   "execution_count": 80,
   "metadata": {
    "collapsed": false
   },
   "outputs": [
    {
     "data": {
      "text/html": [
       "<div>\n",
       "<table border=\"1\" class=\"dataframe\">\n",
       "  <thead>\n",
       "    <tr style=\"text-align: right;\">\n",
       "      <th></th>\n",
       "      <th>A</th>\n",
       "      <th>B</th>\n",
       "      <th>C</th>\n",
       "      <th>D</th>\n",
       "      <th>Ea</th>\n",
       "      <th>Fe</th>\n",
       "    </tr>\n",
       "  </thead>\n",
       "  <tbody>\n",
       "    <tr>\n",
       "      <th>0</th>\n",
       "      <td>1.0</td>\n",
       "      <td>2013-01-02</td>\n",
       "      <td>1.0</td>\n",
       "      <td>3</td>\n",
       "      <td>test</td>\n",
       "      <td>foo</td>\n",
       "    </tr>\n",
       "    <tr>\n",
       "      <th>1</th>\n",
       "      <td>1.0</td>\n",
       "      <td>2013-01-02</td>\n",
       "      <td>1.0</td>\n",
       "      <td>3</td>\n",
       "      <td>train</td>\n",
       "      <td>foo</td>\n",
       "    </tr>\n",
       "    <tr>\n",
       "      <th>2</th>\n",
       "      <td>1.0</td>\n",
       "      <td>2013-01-02</td>\n",
       "      <td>1.0</td>\n",
       "      <td>3</td>\n",
       "      <td>test</td>\n",
       "      <td>foo</td>\n",
       "    </tr>\n",
       "    <tr>\n",
       "      <th>3</th>\n",
       "      <td>1.0</td>\n",
       "      <td>2013-01-02</td>\n",
       "      <td>1.0</td>\n",
       "      <td>3</td>\n",
       "      <td>train</td>\n",
       "      <td>foo</td>\n",
       "    </tr>\n",
       "  </tbody>\n",
       "</table>\n",
       "</div>"
      ],
      "text/plain": [
       "     A          B    C  D     Ea   Fe\n",
       "0  1.0 2013-01-02  1.0  3   test  foo\n",
       "1  1.0 2013-01-02  1.0  3  train  foo\n",
       "2  1.0 2013-01-02  1.0  3   test  foo\n",
       "3  1.0 2013-01-02  1.0  3  train  foo"
      ]
     },
     "execution_count": 80,
     "metadata": {},
     "output_type": "execute_result"
    }
   ],
   "source": [
    "test_df"
   ]
  },
  {
   "cell_type": "code",
   "execution_count": 140,
   "metadata": {
    "collapsed": false
   },
   "outputs": [
    {
     "name": "stdout",
     "output_type": "stream",
     "text": [
      "A            float64\n",
      "B     datetime64[ns]\n",
      "C            float32\n",
      "D            float64\n",
      "Ea          category\n",
      "Fe            object\n",
      "G              int64\n",
      "dtype: object\n"
     ]
    },
    {
     "data": {
      "text/plain": [
       "[False, False, True, False]"
      ]
     },
     "execution_count": 140,
     "metadata": {},
     "output_type": "execute_result"
    }
   ],
   "source": [
    "test_df['G']=0\n",
    "print(test_df.dtypes)\n",
    "test_df.loc[:,['A','Ea','G']]\n",
    "test_df.iloc[2, 3] = np.nan\n",
    "test_df\n",
    "test_df.isnull().any(axis=1)"
   ]
  },
  {
   "cell_type": "code",
   "execution_count": 181,
   "metadata": {
    "collapsed": false
   },
   "outputs": [
    {
     "data": {
      "text/plain": [
       "array([False, False,  True, False], dtype=bool)"
      ]
     },
     "execution_count": 181,
     "metadata": {},
     "output_type": "execute_result"
    }
   ],
   "source": [
    "test_df = pd.DataFrame({ 'A' : 1., 'B' : pd.Timestamp('20130102'), 'C' : pd.Series(1,index=list(range(4)),dtype='float32'),\n",
    "                                      'D' : np.array([3] * 4,dtype='int32'),\n",
    "                                      'Ea' : pd.Categorical([\"test\",\"train\",\"test\",\"train\"]),\n",
    "                                      'Fe' : 'foo' })\n",
    "test_df1 = pd.DataFrame({ 'A' : 1, 'B' : pd.Timestamp('20130102'), 'C' : pd.Series(1,index=list(range(4)),dtype='float32'),\n",
    "                                      'D' : np.array([3] * 4,dtype='int32'),\n",
    "                                      'Ea' : pd.Categorical([\"test\",\"train\",\"test\",\"train\"]),\n",
    "                                      'Fe' : 'foo' })\n",
    "test_df1.iloc[2,3]=2.0\n",
    "test_df1\n",
    "\n",
    "a=(test_df.values!=test_df1.values).any(axis=1)\n",
    "a"
   ]
  },
  {
   "cell_type": "code",
   "execution_count": 214,
   "metadata": {
    "collapsed": false
   },
   "outputs": [
    {
     "data": {
      "text/plain": [
       "0        NaN\n",
       "1        NaN\n",
       "2        NaN\n",
       "3        NaN\n",
       "4        NaN\n",
       "5        NaN\n",
       "6        NaN\n",
       "7        NaN\n",
       "8        NaN\n",
       "9        NaN\n",
       "10       NaN\n",
       "11       NaN\n",
       "12       NaN\n",
       "13       NaN\n",
       "14       NaN\n",
       "15       NaN\n",
       "16       NaN\n",
       "17       NaN\n",
       "18       NaN\n",
       "19       NaN\n",
       "20       NaN\n",
       "21       NaN\n",
       "22       NaN\n",
       "23       NaN\n",
       "24       NaN\n",
       "25       NaN\n",
       "26       NaN\n",
       "27       NaN\n",
       "28       NaN\n",
       "29       NaN\n",
       "        ... \n",
       "25791    NaN\n",
       "25792    NaN\n",
       "25793    NaN\n",
       "25794    NaN\n",
       "25795    NaN\n",
       "25796    NaN\n",
       "25797    NaN\n",
       "25798    NaN\n",
       "25799    NaN\n",
       "25800    NaN\n",
       "25801    NaN\n",
       "25802    NaN\n",
       "25803    NaN\n",
       "25804    NaN\n",
       "25805    NaN\n",
       "25806    NaN\n",
       "25807    NaN\n",
       "25808    NaN\n",
       "25809    NaN\n",
       "25810    NaN\n",
       "25811    NaN\n",
       "25812    NaN\n",
       "25813    NaN\n",
       "25814    NaN\n",
       "25815    NaN\n",
       "25816    NaN\n",
       "25817    NaN\n",
       "25818    NaN\n",
       "25819    NaN\n",
       "25820    NaN\n",
       "Name: LocationManualUpdater, dtype: object"
      ]
     },
     "execution_count": 214,
     "metadata": {},
     "output_type": "execute_result"
    }
   ],
   "source": [
    "all_data.LocationManualUpdater"
   ]
  },
  {
   "cell_type": "code",
   "execution_count": null,
   "metadata": {
    "collapsed": true
   },
   "outputs": [],
   "source": []
  }
 ],
 "metadata": {
  "kernelspec": {
   "display_name": "Python 2",
   "language": "python",
   "name": "python2"
  },
  "language_info": {
   "codemirror_mode": {
    "name": "ipython",
    "version": 2
   },
   "file_extension": ".py",
   "mimetype": "text/x-python",
   "name": "python",
   "nbconvert_exporter": "python",
   "pygments_lexer": "ipython2",
   "version": "2.7.3"
  }
 },
 "nbformat": 4,
 "nbformat_minor": 1
}
